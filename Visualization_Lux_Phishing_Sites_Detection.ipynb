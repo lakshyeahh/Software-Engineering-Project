{
 "cells": [
  {
   "cell_type": "markdown",
   "metadata": {},
   "source": [
    "# Visualizations Implemented Using Lux"
   ]
  },
  {
   "cell_type": "code",
   "execution_count": 2,
   "metadata": {},
   "outputs": [
    {
     "name": "stdout",
     "output_type": "stream",
     "text": [
      "Collecting lux-api\n",
      "  Downloading lux-api-0.5.1.tar.gz (127 kB)\n",
      "  Installing build dependencies: started\n",
      "  Installing build dependencies: finished with status 'done'\n",
      "  Getting requirements to build wheel: started\n",
      "  Getting requirements to build wheel: finished with status 'done'\n",
      "  Preparing metadata (pyproject.toml): started\n",
      "  Preparing metadata (pyproject.toml): finished with status 'done'\n",
      "Collecting lux-widget\n",
      "  Downloading lux-widget-0.1.11.tar.gz (2.5 MB)\n",
      "     ---------------------------------------- 0.0/2.5 MB ? eta -:--:--\n",
      "     ---------------- ----------------------- 1.0/2.5 MB 12.7 MB/s eta 0:00:01\n",
      "     ---------------------------------------- 2.5/2.5 MB 7.6 MB/s eta 0:00:00\n",
      "  Installing build dependencies: started\n",
      "  Installing build dependencies: finished with status 'done'\n",
      "  Getting requirements to build wheel: started\n",
      "  Getting requirements to build wheel: finished with status 'done'\n",
      "  Preparing metadata (pyproject.toml): started\n",
      "  Preparing metadata (pyproject.toml): finished with status 'done'\n",
      "Requirement already satisfied: scipy>=1.3.3 in c:\\users\\lenovo\\desktop\\detection-chrome-extension\\.venv\\lib\\site-packages (from lux-api) (1.14.1)\n",
      "Collecting altair>=4.0.0 (from lux-api)\n",
      "  Downloading altair-5.4.1-py3-none-any.whl.metadata (9.4 kB)\n",
      "Requirement already satisfied: numpy>=1.16.5 in c:\\users\\lenovo\\desktop\\detection-chrome-extension\\.venv\\lib\\site-packages (from lux-api) (2.1.2)\n",
      "Requirement already satisfied: pandas in c:\\users\\lenovo\\desktop\\detection-chrome-extension\\.venv\\lib\\site-packages (from lux-api) (2.2.3)\n",
      "Requirement already satisfied: scikit-learn>=0.22 in c:\\users\\lenovo\\desktop\\detection-chrome-extension\\.venv\\lib\\site-packages (from lux-api) (1.5.2)\n",
      "Collecting matplotlib>=3.0.0 (from lux-api)\n",
      "  Using cached matplotlib-3.9.2-cp312-cp312-win_amd64.whl.metadata (11 kB)\n",
      "Collecting autopep8>=1.5 (from lux-api)\n",
      "  Downloading autopep8-2.3.1-py2.py3-none-any.whl.metadata (16 kB)\n",
      "Collecting iso3166 (from lux-api)\n",
      "  Downloading iso3166-2.1.1-py3-none-any.whl.metadata (6.6 kB)\n",
      "Requirement already satisfied: psutil>=5.9.0 in c:\\users\\lenovo\\desktop\\detection-chrome-extension\\.venv\\lib\\site-packages (from lux-api) (6.0.0)\n",
      "Collecting sh (from lux-api)\n",
      "  Downloading sh-2.1.0-py3-none-any.whl.metadata (3.4 kB)\n",
      "Collecting notebook>=4.0.0 (from lux-widget)\n",
      "  Downloading notebook-7.2.2-py3-none-any.whl.metadata (10 kB)\n",
      "Collecting ipywidgets>=7.5.0 (from lux-widget)\n",
      "  Downloading ipywidgets-8.1.5-py3-none-any.whl.metadata (2.3 kB)\n",
      "Collecting jinja2 (from altair>=4.0.0->lux-api)\n",
      "  Using cached jinja2-3.1.4-py3-none-any.whl.metadata (2.6 kB)\n",
      "Collecting jsonschema>=3.0 (from altair>=4.0.0->lux-api)\n",
      "  Downloading jsonschema-4.23.0-py3-none-any.whl.metadata (7.9 kB)\n",
      "Collecting narwhals>=1.5.2 (from altair>=4.0.0->lux-api)\n",
      "  Downloading narwhals-1.9.2-py3-none-any.whl.metadata (7.0 kB)\n",
      "Requirement already satisfied: packaging in c:\\users\\lenovo\\desktop\\detection-chrome-extension\\.venv\\lib\\site-packages (from altair>=4.0.0->lux-api) (24.1)\n",
      "Requirement already satisfied: typing-extensions>=4.10.0 in c:\\users\\lenovo\\desktop\\detection-chrome-extension\\.venv\\lib\\site-packages (from altair>=4.0.0->lux-api) (4.12.2)\n",
      "Collecting pycodestyle>=2.12.0 (from autopep8>=1.5->lux-api)\n",
      "  Downloading pycodestyle-2.12.1-py2.py3-none-any.whl.metadata (4.5 kB)\n",
      "Requirement already satisfied: comm>=0.1.3 in c:\\users\\lenovo\\desktop\\detection-chrome-extension\\.venv\\lib\\site-packages (from ipywidgets>=7.5.0->lux-widget) (0.2.2)\n",
      "Requirement already satisfied: ipython>=6.1.0 in c:\\users\\lenovo\\desktop\\detection-chrome-extension\\.venv\\lib\\site-packages (from ipywidgets>=7.5.0->lux-widget) (8.28.0)\n",
      "Requirement already satisfied: traitlets>=4.3.1 in c:\\users\\lenovo\\desktop\\detection-chrome-extension\\.venv\\lib\\site-packages (from ipywidgets>=7.5.0->lux-widget) (5.14.3)\n",
      "Collecting widgetsnbextension~=4.0.12 (from ipywidgets>=7.5.0->lux-widget)\n",
      "  Downloading widgetsnbextension-4.0.13-py3-none-any.whl.metadata (1.6 kB)\n",
      "Collecting jupyterlab-widgets~=3.0.12 (from ipywidgets>=7.5.0->lux-widget)\n",
      "  Downloading jupyterlab_widgets-3.0.13-py3-none-any.whl.metadata (4.1 kB)\n",
      "Collecting contourpy>=1.0.1 (from matplotlib>=3.0.0->lux-api)\n",
      "  Using cached contourpy-1.3.0-cp312-cp312-win_amd64.whl.metadata (5.4 kB)\n",
      "Collecting cycler>=0.10 (from matplotlib>=3.0.0->lux-api)\n",
      "  Using cached cycler-0.12.1-py3-none-any.whl.metadata (3.8 kB)\n",
      "Collecting fonttools>=4.22.0 (from matplotlib>=3.0.0->lux-api)\n",
      "  Using cached fonttools-4.54.1-cp312-cp312-win_amd64.whl.metadata (167 kB)\n",
      "Collecting kiwisolver>=1.3.1 (from matplotlib>=3.0.0->lux-api)\n",
      "  Using cached kiwisolver-1.4.7-cp312-cp312-win_amd64.whl.metadata (6.4 kB)\n",
      "Collecting pillow>=8 (from matplotlib>=3.0.0->lux-api)\n",
      "  Using cached pillow-10.4.0-cp312-cp312-win_amd64.whl.metadata (9.3 kB)\n",
      "Collecting pyparsing>=2.3.1 (from matplotlib>=3.0.0->lux-api)\n",
      "  Using cached pyparsing-3.1.4-py3-none-any.whl.metadata (5.1 kB)\n",
      "Requirement already satisfied: python-dateutil>=2.7 in c:\\users\\lenovo\\desktop\\detection-chrome-extension\\.venv\\lib\\site-packages (from matplotlib>=3.0.0->lux-api) (2.9.0.post0)\n",
      "Collecting jupyter-server<3,>=2.4.0 (from notebook>=4.0.0->lux-widget)\n",
      "  Downloading jupyter_server-2.14.2-py3-none-any.whl.metadata (8.4 kB)\n",
      "Collecting jupyterlab-server<3,>=2.27.1 (from notebook>=4.0.0->lux-widget)\n",
      "  Downloading jupyterlab_server-2.27.3-py3-none-any.whl.metadata (5.9 kB)\n",
      "Collecting jupyterlab<4.3,>=4.2.0 (from notebook>=4.0.0->lux-widget)\n",
      "  Downloading jupyterlab-4.2.5-py3-none-any.whl.metadata (16 kB)\n",
      "Collecting notebook-shim<0.3,>=0.2 (from notebook>=4.0.0->lux-widget)\n",
      "  Downloading notebook_shim-0.2.4-py3-none-any.whl.metadata (4.0 kB)\n",
      "Requirement already satisfied: tornado>=6.2.0 in c:\\users\\lenovo\\desktop\\detection-chrome-extension\\.venv\\lib\\site-packages (from notebook>=4.0.0->lux-widget) (6.4.1)\n",
      "Requirement already satisfied: joblib>=1.2.0 in c:\\users\\lenovo\\desktop\\detection-chrome-extension\\.venv\\lib\\site-packages (from scikit-learn>=0.22->lux-api) (1.4.2)\n",
      "Requirement already satisfied: threadpoolctl>=3.1.0 in c:\\users\\lenovo\\desktop\\detection-chrome-extension\\.venv\\lib\\site-packages (from scikit-learn>=0.22->lux-api) (3.5.0)\n",
      "Requirement already satisfied: pytz>=2020.1 in c:\\users\\lenovo\\desktop\\detection-chrome-extension\\.venv\\lib\\site-packages (from pandas->lux-api) (2024.2)\n",
      "Requirement already satisfied: tzdata>=2022.7 in c:\\users\\lenovo\\desktop\\detection-chrome-extension\\.venv\\lib\\site-packages (from pandas->lux-api) (2024.2)\n",
      "Requirement already satisfied: decorator in c:\\users\\lenovo\\desktop\\detection-chrome-extension\\.venv\\lib\\site-packages (from ipython>=6.1.0->ipywidgets>=7.5.0->lux-widget) (5.1.1)\n",
      "Requirement already satisfied: jedi>=0.16 in c:\\users\\lenovo\\desktop\\detection-chrome-extension\\.venv\\lib\\site-packages (from ipython>=6.1.0->ipywidgets>=7.5.0->lux-widget) (0.19.1)\n",
      "Requirement already satisfied: matplotlib-inline in c:\\users\\lenovo\\desktop\\detection-chrome-extension\\.venv\\lib\\site-packages (from ipython>=6.1.0->ipywidgets>=7.5.0->lux-widget) (0.1.7)\n",
      "Requirement already satisfied: prompt-toolkit<3.1.0,>=3.0.41 in c:\\users\\lenovo\\desktop\\detection-chrome-extension\\.venv\\lib\\site-packages (from ipython>=6.1.0->ipywidgets>=7.5.0->lux-widget) (3.0.48)\n",
      "Requirement already satisfied: pygments>=2.4.0 in c:\\users\\lenovo\\desktop\\detection-chrome-extension\\.venv\\lib\\site-packages (from ipython>=6.1.0->ipywidgets>=7.5.0->lux-widget) (2.18.0)\n",
      "Requirement already satisfied: stack-data in c:\\users\\lenovo\\desktop\\detection-chrome-extension\\.venv\\lib\\site-packages (from ipython>=6.1.0->ipywidgets>=7.5.0->lux-widget) (0.6.3)\n",
      "Requirement already satisfied: colorama in c:\\users\\lenovo\\desktop\\detection-chrome-extension\\.venv\\lib\\site-packages (from ipython>=6.1.0->ipywidgets>=7.5.0->lux-widget) (0.4.6)\n",
      "Collecting attrs>=22.2.0 (from jsonschema>=3.0->altair>=4.0.0->lux-api)\n",
      "  Using cached attrs-24.2.0-py3-none-any.whl.metadata (11 kB)\n",
      "Collecting jsonschema-specifications>=2023.03.6 (from jsonschema>=3.0->altair>=4.0.0->lux-api)\n",
      "  Downloading jsonschema_specifications-2024.10.1-py3-none-any.whl.metadata (3.0 kB)\n",
      "Collecting referencing>=0.28.4 (from jsonschema>=3.0->altair>=4.0.0->lux-api)\n",
      "  Downloading referencing-0.35.1-py3-none-any.whl.metadata (2.8 kB)\n",
      "Collecting rpds-py>=0.7.1 (from jsonschema>=3.0->altair>=4.0.0->lux-api)\n",
      "  Downloading rpds_py-0.20.0-cp312-none-win_amd64.whl.metadata (4.2 kB)\n",
      "Requirement already satisfied: anyio>=3.1.0 in c:\\users\\lenovo\\desktop\\detection-chrome-extension\\.venv\\lib\\site-packages (from jupyter-server<3,>=2.4.0->notebook>=4.0.0->lux-widget) (4.6.0)\n",
      "Collecting argon2-cffi>=21.1 (from jupyter-server<3,>=2.4.0->notebook>=4.0.0->lux-widget)\n",
      "  Downloading argon2_cffi-23.1.0-py3-none-any.whl.metadata (5.2 kB)\n",
      "Requirement already satisfied: jupyter-client>=7.4.4 in c:\\users\\lenovo\\desktop\\detection-chrome-extension\\.venv\\lib\\site-packages (from jupyter-server<3,>=2.4.0->notebook>=4.0.0->lux-widget) (8.6.3)\n",
      "Requirement already satisfied: jupyter-core!=5.0.*,>=4.12 in c:\\users\\lenovo\\desktop\\detection-chrome-extension\\.venv\\lib\\site-packages (from jupyter-server<3,>=2.4.0->notebook>=4.0.0->lux-widget) (5.7.2)\n",
      "Collecting jupyter-events>=0.9.0 (from jupyter-server<3,>=2.4.0->notebook>=4.0.0->lux-widget)\n",
      "  Downloading jupyter_events-0.10.0-py3-none-any.whl.metadata (5.9 kB)\n",
      "Collecting jupyter-server-terminals>=0.4.4 (from jupyter-server<3,>=2.4.0->notebook>=4.0.0->lux-widget)\n",
      "  Downloading jupyter_server_terminals-0.5.3-py3-none-any.whl.metadata (5.6 kB)\n",
      "Collecting nbconvert>=6.4.4 (from jupyter-server<3,>=2.4.0->notebook>=4.0.0->lux-widget)\n",
      "  Downloading nbconvert-7.16.4-py3-none-any.whl.metadata (8.5 kB)\n",
      "Collecting nbformat>=5.3.0 (from jupyter-server<3,>=2.4.0->notebook>=4.0.0->lux-widget)\n",
      "  Downloading nbformat-5.10.4-py3-none-any.whl.metadata (3.6 kB)\n",
      "Collecting overrides>=5.0 (from jupyter-server<3,>=2.4.0->notebook>=4.0.0->lux-widget)\n",
      "  Downloading overrides-7.7.0-py3-none-any.whl.metadata (5.8 kB)\n",
      "Collecting prometheus-client>=0.9 (from jupyter-server<3,>=2.4.0->notebook>=4.0.0->lux-widget)\n",
      "  Downloading prometheus_client-0.21.0-py3-none-any.whl.metadata (1.8 kB)\n",
      "Collecting pywinpty>=2.0.1 (from jupyter-server<3,>=2.4.0->notebook>=4.0.0->lux-widget)\n",
      "  Downloading pywinpty-2.0.13-cp312-none-win_amd64.whl.metadata (5.2 kB)\n",
      "Requirement already satisfied: pyzmq>=24 in c:\\users\\lenovo\\desktop\\detection-chrome-extension\\.venv\\lib\\site-packages (from jupyter-server<3,>=2.4.0->notebook>=4.0.0->lux-widget) (26.2.0)\n",
      "Collecting send2trash>=1.8.2 (from jupyter-server<3,>=2.4.0->notebook>=4.0.0->lux-widget)\n",
      "  Downloading Send2Trash-1.8.3-py3-none-any.whl.metadata (4.0 kB)\n",
      "Collecting terminado>=0.8.3 (from jupyter-server<3,>=2.4.0->notebook>=4.0.0->lux-widget)\n",
      "  Downloading terminado-0.18.1-py3-none-any.whl.metadata (5.8 kB)\n",
      "Collecting websocket-client>=1.7 (from jupyter-server<3,>=2.4.0->notebook>=4.0.0->lux-widget)\n",
      "  Downloading websocket_client-1.8.0-py3-none-any.whl.metadata (8.0 kB)\n",
      "Collecting MarkupSafe>=2.0 (from jinja2->altair>=4.0.0->lux-api)\n",
      "  Using cached MarkupSafe-3.0.1-cp312-cp312-win_amd64.whl.metadata (4.1 kB)\n",
      "Collecting async-lru>=1.0.0 (from jupyterlab<4.3,>=4.2.0->notebook>=4.0.0->lux-widget)\n",
      "  Downloading async_lru-2.0.4-py3-none-any.whl.metadata (4.5 kB)\n",
      "Collecting httpx>=0.25.0 (from jupyterlab<4.3,>=4.2.0->notebook>=4.0.0->lux-widget)\n",
      "  Downloading httpx-0.27.2-py3-none-any.whl.metadata (7.1 kB)\n",
      "Requirement already satisfied: ipykernel>=6.5.0 in c:\\users\\lenovo\\desktop\\detection-chrome-extension\\.venv\\lib\\site-packages (from jupyterlab<4.3,>=4.2.0->notebook>=4.0.0->lux-widget) (6.29.5)\n",
      "Collecting jupyter-lsp>=2.0.0 (from jupyterlab<4.3,>=4.2.0->notebook>=4.0.0->lux-widget)\n",
      "  Downloading jupyter_lsp-2.2.5-py3-none-any.whl.metadata (1.8 kB)\n",
      "Collecting setuptools>=40.1.0 (from jupyterlab<4.3,>=4.2.0->notebook>=4.0.0->lux-widget)\n",
      "  Using cached setuptools-75.1.0-py3-none-any.whl.metadata (6.9 kB)\n",
      "Collecting babel>=2.10 (from jupyterlab-server<3,>=2.27.1->notebook>=4.0.0->lux-widget)\n",
      "  Downloading babel-2.16.0-py3-none-any.whl.metadata (1.5 kB)\n",
      "Collecting json5>=0.9.0 (from jupyterlab-server<3,>=2.27.1->notebook>=4.0.0->lux-widget)\n",
      "  Downloading json5-0.9.25-py3-none-any.whl.metadata (30 kB)\n",
      "Requirement already satisfied: requests>=2.31 in c:\\users\\lenovo\\desktop\\detection-chrome-extension\\.venv\\lib\\site-packages (from jupyterlab-server<3,>=2.27.1->notebook>=4.0.0->lux-widget) (2.32.3)\n",
      "Requirement already satisfied: six>=1.5 in c:\\users\\lenovo\\desktop\\detection-chrome-extension\\.venv\\lib\\site-packages (from python-dateutil>=2.7->matplotlib>=3.0.0->lux-api) (1.16.0)\n",
      "Requirement already satisfied: idna>=2.8 in c:\\users\\lenovo\\desktop\\detection-chrome-extension\\.venv\\lib\\site-packages (from anyio>=3.1.0->jupyter-server<3,>=2.4.0->notebook>=4.0.0->lux-widget) (3.10)\n",
      "Requirement already satisfied: sniffio>=1.1 in c:\\users\\lenovo\\desktop\\detection-chrome-extension\\.venv\\lib\\site-packages (from anyio>=3.1.0->jupyter-server<3,>=2.4.0->notebook>=4.0.0->lux-widget) (1.3.1)\n",
      "Collecting argon2-cffi-bindings (from argon2-cffi>=21.1->jupyter-server<3,>=2.4.0->notebook>=4.0.0->lux-widget)\n",
      "  Downloading argon2_cffi_bindings-21.2.0-cp36-abi3-win_amd64.whl.metadata (6.7 kB)\n",
      "Requirement already satisfied: certifi in c:\\users\\lenovo\\desktop\\detection-chrome-extension\\.venv\\lib\\site-packages (from httpx>=0.25.0->jupyterlab<4.3,>=4.2.0->notebook>=4.0.0->lux-widget) (2024.8.30)\n",
      "Collecting httpcore==1.* (from httpx>=0.25.0->jupyterlab<4.3,>=4.2.0->notebook>=4.0.0->lux-widget)\n",
      "  Downloading httpcore-1.0.6-py3-none-any.whl.metadata (21 kB)\n",
      "Requirement already satisfied: h11<0.15,>=0.13 in c:\\users\\lenovo\\desktop\\detection-chrome-extension\\.venv\\lib\\site-packages (from httpcore==1.*->httpx>=0.25.0->jupyterlab<4.3,>=4.2.0->notebook>=4.0.0->lux-widget) (0.14.0)\n",
      "Requirement already satisfied: debugpy>=1.6.5 in c:\\users\\lenovo\\desktop\\detection-chrome-extension\\.venv\\lib\\site-packages (from ipykernel>=6.5.0->jupyterlab<4.3,>=4.2.0->notebook>=4.0.0->lux-widget) (1.8.6)\n",
      "Requirement already satisfied: nest-asyncio in c:\\users\\lenovo\\desktop\\detection-chrome-extension\\.venv\\lib\\site-packages (from ipykernel>=6.5.0->jupyterlab<4.3,>=4.2.0->notebook>=4.0.0->lux-widget) (1.6.0)\n",
      "Requirement already satisfied: parso<0.9.0,>=0.8.3 in c:\\users\\lenovo\\desktop\\detection-chrome-extension\\.venv\\lib\\site-packages (from jedi>=0.16->ipython>=6.1.0->ipywidgets>=7.5.0->lux-widget) (0.8.4)\n",
      "Requirement already satisfied: platformdirs>=2.5 in c:\\users\\lenovo\\desktop\\detection-chrome-extension\\.venv\\lib\\site-packages (from jupyter-core!=5.0.*,>=4.12->jupyter-server<3,>=2.4.0->notebook>=4.0.0->lux-widget) (4.3.6)\n",
      "Requirement already satisfied: pywin32>=300 in c:\\users\\lenovo\\desktop\\detection-chrome-extension\\.venv\\lib\\site-packages (from jupyter-core!=5.0.*,>=4.12->jupyter-server<3,>=2.4.0->notebook>=4.0.0->lux-widget) (307)\n",
      "Collecting python-json-logger>=2.0.4 (from jupyter-events>=0.9.0->jupyter-server<3,>=2.4.0->notebook>=4.0.0->lux-widget)\n",
      "  Downloading python_json_logger-2.0.7-py3-none-any.whl.metadata (6.5 kB)\n",
      "Collecting pyyaml>=5.3 (from jupyter-events>=0.9.0->jupyter-server<3,>=2.4.0->notebook>=4.0.0->lux-widget)\n",
      "  Using cached PyYAML-6.0.2-cp312-cp312-win_amd64.whl.metadata (2.1 kB)\n",
      "Collecting rfc3339-validator (from jupyter-events>=0.9.0->jupyter-server<3,>=2.4.0->notebook>=4.0.0->lux-widget)\n",
      "  Downloading rfc3339_validator-0.1.4-py2.py3-none-any.whl.metadata (1.5 kB)\n",
      "Collecting rfc3986-validator>=0.1.1 (from jupyter-events>=0.9.0->jupyter-server<3,>=2.4.0->notebook>=4.0.0->lux-widget)\n",
      "  Downloading rfc3986_validator-0.1.1-py2.py3-none-any.whl.metadata (1.7 kB)\n",
      "Requirement already satisfied: beautifulsoup4 in c:\\users\\lenovo\\desktop\\detection-chrome-extension\\.venv\\lib\\site-packages (from nbconvert>=6.4.4->jupyter-server<3,>=2.4.0->notebook>=4.0.0->lux-widget) (4.12.3)\n",
      "Collecting bleach!=5.0.0 (from nbconvert>=6.4.4->jupyter-server<3,>=2.4.0->notebook>=4.0.0->lux-widget)\n",
      "  Downloading bleach-6.1.0-py3-none-any.whl.metadata (30 kB)\n",
      "Collecting defusedxml (from nbconvert>=6.4.4->jupyter-server<3,>=2.4.0->notebook>=4.0.0->lux-widget)\n",
      "  Downloading defusedxml-0.7.1-py2.py3-none-any.whl.metadata (32 kB)\n",
      "Collecting jupyterlab-pygments (from nbconvert>=6.4.4->jupyter-server<3,>=2.4.0->notebook>=4.0.0->lux-widget)\n",
      "  Downloading jupyterlab_pygments-0.3.0-py3-none-any.whl.metadata (4.4 kB)\n",
      "Collecting mistune<4,>=2.0.3 (from nbconvert>=6.4.4->jupyter-server<3,>=2.4.0->notebook>=4.0.0->lux-widget)\n",
      "  Downloading mistune-3.0.2-py3-none-any.whl.metadata (1.7 kB)\n",
      "Collecting nbclient>=0.5.0 (from nbconvert>=6.4.4->jupyter-server<3,>=2.4.0->notebook>=4.0.0->lux-widget)\n",
      "  Downloading nbclient-0.10.0-py3-none-any.whl.metadata (7.8 kB)\n",
      "Collecting pandocfilters>=1.4.1 (from nbconvert>=6.4.4->jupyter-server<3,>=2.4.0->notebook>=4.0.0->lux-widget)\n",
      "  Downloading pandocfilters-1.5.1-py2.py3-none-any.whl.metadata (9.0 kB)\n",
      "Collecting tinycss2 (from nbconvert>=6.4.4->jupyter-server<3,>=2.4.0->notebook>=4.0.0->lux-widget)\n",
      "  Downloading tinycss2-1.3.0-py3-none-any.whl.metadata (3.0 kB)\n",
      "Collecting fastjsonschema>=2.15 (from nbformat>=5.3.0->jupyter-server<3,>=2.4.0->notebook>=4.0.0->lux-widget)\n",
      "  Downloading fastjsonschema-2.20.0-py3-none-any.whl.metadata (2.1 kB)\n",
      "Requirement already satisfied: wcwidth in c:\\users\\lenovo\\desktop\\detection-chrome-extension\\.venv\\lib\\site-packages (from prompt-toolkit<3.1.0,>=3.0.41->ipython>=6.1.0->ipywidgets>=7.5.0->lux-widget) (0.2.13)\n",
      "Requirement already satisfied: charset-normalizer<4,>=2 in c:\\users\\lenovo\\desktop\\detection-chrome-extension\\.venv\\lib\\site-packages (from requests>=2.31->jupyterlab-server<3,>=2.27.1->notebook>=4.0.0->lux-widget) (3.4.0)\n",
      "Requirement already satisfied: urllib3<3,>=1.21.1 in c:\\users\\lenovo\\desktop\\detection-chrome-extension\\.venv\\lib\\site-packages (from requests>=2.31->jupyterlab-server<3,>=2.27.1->notebook>=4.0.0->lux-widget) (2.2.3)\n",
      "Requirement already satisfied: executing>=1.2.0 in c:\\users\\lenovo\\desktop\\detection-chrome-extension\\.venv\\lib\\site-packages (from stack-data->ipython>=6.1.0->ipywidgets>=7.5.0->lux-widget) (2.1.0)\n",
      "Requirement already satisfied: asttokens>=2.1.0 in c:\\users\\lenovo\\desktop\\detection-chrome-extension\\.venv\\lib\\site-packages (from stack-data->ipython>=6.1.0->ipywidgets>=7.5.0->lux-widget) (2.4.1)\n",
      "Requirement already satisfied: pure-eval in c:\\users\\lenovo\\desktop\\detection-chrome-extension\\.venv\\lib\\site-packages (from stack-data->ipython>=6.1.0->ipywidgets>=7.5.0->lux-widget) (0.2.3)\n",
      "Collecting webencodings (from bleach!=5.0.0->nbconvert>=6.4.4->jupyter-server<3,>=2.4.0->notebook>=4.0.0->lux-widget)\n",
      "  Downloading webencodings-0.5.1-py2.py3-none-any.whl.metadata (2.1 kB)\n",
      "Collecting fqdn (from jsonschema[format-nongpl]>=4.18.0->jupyter-events>=0.9.0->jupyter-server<3,>=2.4.0->notebook>=4.0.0->lux-widget)\n",
      "  Downloading fqdn-1.5.1-py3-none-any.whl.metadata (1.4 kB)\n",
      "Collecting isoduration (from jsonschema[format-nongpl]>=4.18.0->jupyter-events>=0.9.0->jupyter-server<3,>=2.4.0->notebook>=4.0.0->lux-widget)\n",
      "  Downloading isoduration-20.11.0-py3-none-any.whl.metadata (5.7 kB)\n",
      "Collecting jsonpointer>1.13 (from jsonschema[format-nongpl]>=4.18.0->jupyter-events>=0.9.0->jupyter-server<3,>=2.4.0->notebook>=4.0.0->lux-widget)\n",
      "  Downloading jsonpointer-3.0.0-py2.py3-none-any.whl.metadata (2.3 kB)\n",
      "Collecting uri-template (from jsonschema[format-nongpl]>=4.18.0->jupyter-events>=0.9.0->jupyter-server<3,>=2.4.0->notebook>=4.0.0->lux-widget)\n",
      "  Downloading uri_template-1.3.0-py3-none-any.whl.metadata (8.8 kB)\n",
      "Collecting webcolors>=24.6.0 (from jsonschema[format-nongpl]>=4.18.0->jupyter-events>=0.9.0->jupyter-server<3,>=2.4.0->notebook>=4.0.0->lux-widget)\n",
      "  Downloading webcolors-24.8.0-py3-none-any.whl.metadata (2.6 kB)\n",
      "Collecting cffi>=1.0.1 (from argon2-cffi-bindings->argon2-cffi>=21.1->jupyter-server<3,>=2.4.0->notebook>=4.0.0->lux-widget)\n",
      "  Using cached cffi-1.17.1-cp312-cp312-win_amd64.whl.metadata (1.6 kB)\n",
      "Requirement already satisfied: soupsieve>1.2 in c:\\users\\lenovo\\desktop\\detection-chrome-extension\\.venv\\lib\\site-packages (from beautifulsoup4->nbconvert>=6.4.4->jupyter-server<3,>=2.4.0->notebook>=4.0.0->lux-widget) (2.6)\n",
      "Collecting pycparser (from cffi>=1.0.1->argon2-cffi-bindings->argon2-cffi>=21.1->jupyter-server<3,>=2.4.0->notebook>=4.0.0->lux-widget)\n",
      "  Using cached pycparser-2.22-py3-none-any.whl.metadata (943 bytes)\n",
      "Collecting arrow>=0.15.0 (from isoduration->jsonschema[format-nongpl]>=4.18.0->jupyter-events>=0.9.0->jupyter-server<3,>=2.4.0->notebook>=4.0.0->lux-widget)\n",
      "  Downloading arrow-1.3.0-py3-none-any.whl.metadata (7.5 kB)\n",
      "Collecting types-python-dateutil>=2.8.10 (from arrow>=0.15.0->isoduration->jsonschema[format-nongpl]>=4.18.0->jupyter-events>=0.9.0->jupyter-server<3,>=2.4.0->notebook>=4.0.0->lux-widget)\n",
      "  Downloading types_python_dateutil-2.9.0.20241003-py3-none-any.whl.metadata (1.9 kB)\n",
      "Downloading altair-5.4.1-py3-none-any.whl (658 kB)\n",
      "   ---------------------------------------- 0.0/658.1 kB ? eta -:--:--\n",
      "   --------------------------------------- 658.1/658.1 kB 24.8 MB/s eta 0:00:00\n",
      "Downloading autopep8-2.3.1-py2.py3-none-any.whl (45 kB)\n",
      "Downloading ipywidgets-8.1.5-py3-none-any.whl (139 kB)\n",
      "Using cached matplotlib-3.9.2-cp312-cp312-win_amd64.whl (7.8 MB)\n",
      "Downloading notebook-7.2.2-py3-none-any.whl (5.0 MB)\n",
      "   ---------------------------------------- 0.0/5.0 MB ? eta -:--:--\n",
      "   --------------------------------- ------ 4.2/5.0 MB 20.9 MB/s eta 0:00:01\n",
      "   ---------------------------------------- 5.0/5.0 MB 20.4 MB/s eta 0:00:00\n",
      "Downloading iso3166-2.1.1-py3-none-any.whl (9.8 kB)\n",
      "Downloading sh-2.1.0-py3-none-any.whl (38 kB)\n",
      "Using cached contourpy-1.3.0-cp312-cp312-win_amd64.whl (218 kB)\n",
      "Using cached cycler-0.12.1-py3-none-any.whl (8.3 kB)\n",
      "Using cached fonttools-4.54.1-cp312-cp312-win_amd64.whl (2.2 MB)\n",
      "Downloading jsonschema-4.23.0-py3-none-any.whl (88 kB)\n",
      "Downloading jupyter_server-2.14.2-py3-none-any.whl (383 kB)\n",
      "Using cached jinja2-3.1.4-py3-none-any.whl (133 kB)\n",
      "Downloading jupyterlab-4.2.5-py3-none-any.whl (11.6 MB)\n",
      "   ---------------------------------------- 0.0/11.6 MB ? eta -:--:--\n",
      "   -------------- ------------------------- 4.2/11.6 MB 19.4 MB/s eta 0:00:01\n",
      "   ----------------------------- ---------- 8.7/11.6 MB 20.7 MB/s eta 0:00:01\n",
      "   ---------------------------------------- 11.6/11.6 MB 19.7 MB/s eta 0:00:00\n",
      "Downloading jupyterlab_server-2.27.3-py3-none-any.whl (59 kB)\n",
      "Downloading jupyterlab_widgets-3.0.13-py3-none-any.whl (214 kB)\n",
      "Using cached kiwisolver-1.4.7-cp312-cp312-win_amd64.whl (55 kB)\n",
      "Downloading narwhals-1.9.2-py3-none-any.whl (185 kB)\n",
      "Downloading notebook_shim-0.2.4-py3-none-any.whl (13 kB)\n",
      "Using cached pillow-10.4.0-cp312-cp312-win_amd64.whl (2.6 MB)\n",
      "Downloading pycodestyle-2.12.1-py2.py3-none-any.whl (31 kB)\n",
      "Using cached pyparsing-3.1.4-py3-none-any.whl (104 kB)\n",
      "Downloading widgetsnbextension-4.0.13-py3-none-any.whl (2.3 MB)\n",
      "   ---------------------------------------- 0.0/2.3 MB ? eta -:--:--\n",
      "   ---------------------------------------- 2.3/2.3 MB 19.0 MB/s eta 0:00:00\n",
      "Downloading argon2_cffi-23.1.0-py3-none-any.whl (15 kB)\n",
      "Downloading async_lru-2.0.4-py3-none-any.whl (6.1 kB)\n",
      "Using cached attrs-24.2.0-py3-none-any.whl (63 kB)\n",
      "Downloading babel-2.16.0-py3-none-any.whl (9.6 MB)\n",
      "   ---------------------------------------- 0.0/9.6 MB ? eta -:--:--\n",
      "   ---------------- ----------------------- 3.9/9.6 MB 18.1 MB/s eta 0:00:01\n",
      "   ------------------------------------- -- 8.9/9.6 MB 20.5 MB/s eta 0:00:01\n",
      "   ---------------------------------------- 9.6/9.6 MB 19.9 MB/s eta 0:00:00\n",
      "Downloading httpx-0.27.2-py3-none-any.whl (76 kB)\n",
      "Downloading httpcore-1.0.6-py3-none-any.whl (78 kB)\n",
      "Downloading json5-0.9.25-py3-none-any.whl (30 kB)\n",
      "Downloading jsonschema_specifications-2024.10.1-py3-none-any.whl (18 kB)\n",
      "Downloading jupyter_events-0.10.0-py3-none-any.whl (18 kB)\n",
      "Downloading jupyter_lsp-2.2.5-py3-none-any.whl (69 kB)\n",
      "Downloading jupyter_server_terminals-0.5.3-py3-none-any.whl (13 kB)\n",
      "Using cached MarkupSafe-3.0.1-cp312-cp312-win_amd64.whl (15 kB)\n",
      "Downloading nbconvert-7.16.4-py3-none-any.whl (257 kB)\n",
      "Downloading nbformat-5.10.4-py3-none-any.whl (78 kB)\n",
      "Downloading overrides-7.7.0-py3-none-any.whl (17 kB)\n",
      "Downloading prometheus_client-0.21.0-py3-none-any.whl (54 kB)\n",
      "Downloading pywinpty-2.0.13-cp312-none-win_amd64.whl (1.4 MB)\n",
      "   ---------------------------------------- 0.0/1.4 MB ? eta -:--:--\n",
      "   ---------------------------------------- 1.4/1.4 MB 18.1 MB/s eta 0:00:00\n",
      "Downloading referencing-0.35.1-py3-none-any.whl (26 kB)\n",
      "Downloading rpds_py-0.20.0-cp312-none-win_amd64.whl (214 kB)\n",
      "Downloading Send2Trash-1.8.3-py3-none-any.whl (18 kB)\n",
      "Using cached setuptools-75.1.0-py3-none-any.whl (1.2 MB)\n",
      "Downloading terminado-0.18.1-py3-none-any.whl (14 kB)\n",
      "Downloading websocket_client-1.8.0-py3-none-any.whl (58 kB)\n",
      "Downloading bleach-6.1.0-py3-none-any.whl (162 kB)\n",
      "Downloading fastjsonschema-2.20.0-py3-none-any.whl (23 kB)\n",
      "Downloading mistune-3.0.2-py3-none-any.whl (47 kB)\n",
      "Downloading nbclient-0.10.0-py3-none-any.whl (25 kB)\n",
      "Downloading pandocfilters-1.5.1-py2.py3-none-any.whl (8.7 kB)\n",
      "Downloading python_json_logger-2.0.7-py3-none-any.whl (8.1 kB)\n",
      "Using cached PyYAML-6.0.2-cp312-cp312-win_amd64.whl (156 kB)\n",
      "Downloading rfc3986_validator-0.1.1-py2.py3-none-any.whl (4.2 kB)\n",
      "Downloading argon2_cffi_bindings-21.2.0-cp36-abi3-win_amd64.whl (30 kB)\n",
      "Downloading defusedxml-0.7.1-py2.py3-none-any.whl (25 kB)\n",
      "Downloading jupyterlab_pygments-0.3.0-py3-none-any.whl (15 kB)\n",
      "Downloading rfc3339_validator-0.1.4-py2.py3-none-any.whl (3.5 kB)\n",
      "Downloading tinycss2-1.3.0-py3-none-any.whl (22 kB)\n",
      "Using cached cffi-1.17.1-cp312-cp312-win_amd64.whl (181 kB)\n",
      "Downloading jsonpointer-3.0.0-py2.py3-none-any.whl (7.6 kB)\n",
      "Downloading webcolors-24.8.0-py3-none-any.whl (15 kB)\n",
      "Downloading webencodings-0.5.1-py2.py3-none-any.whl (11 kB)\n",
      "Downloading fqdn-1.5.1-py3-none-any.whl (9.1 kB)\n",
      "Downloading isoduration-20.11.0-py3-none-any.whl (11 kB)\n",
      "Downloading uri_template-1.3.0-py3-none-any.whl (11 kB)\n",
      "Downloading arrow-1.3.0-py3-none-any.whl (66 kB)\n",
      "Using cached pycparser-2.22-py3-none-any.whl (117 kB)\n",
      "Downloading types_python_dateutil-2.9.0.20241003-py3-none-any.whl (9.7 kB)\n",
      "Building wheels for collected packages: lux-api, lux-widget\n",
      "  Building wheel for lux-api (pyproject.toml): started\n",
      "  Building wheel for lux-api (pyproject.toml): finished with status 'done'\n",
      "  Created wheel for lux-api: filename=lux_api-0.5.1-py3-none-any.whl size=185638 sha256=9ac3e16783ffe381e4ca9b5a98085406c16f63fc3efc58d08eed676c8215acec\n",
      "  Stored in directory: c:\\users\\lenovo\\appdata\\local\\packages\\pythonsoftwarefoundation.python.3.12_qbz5n2kfra8p0\\localcache\\local\\pip\\cache\\wheels\\c4\\96\\d2\\ffa7f6c489166338d6d66a644375d56e6d794b780f1bb671ac\n",
      "  Building wheel for lux-widget (pyproject.toml): started\n",
      "  Building wheel for lux-widget (pyproject.toml): finished with status 'done'\n",
      "  Created wheel for lux-widget: filename=lux_widget-0.1.11-py3-none-any.whl size=2540478 sha256=1c1bfa0656b6d8dfeae4e54899ff64599c288f490b1f42a32d32a928d0893b27\n",
      "  Stored in directory: c:\\users\\lenovo\\appdata\\local\\packages\\pythonsoftwarefoundation.python.3.12_qbz5n2kfra8p0\\localcache\\local\\pip\\cache\\wheels\\e3\\52\\42\\3824e2f5f2d38ee1cb7d3e12ca7734e9930f44aac80d5ac533\n",
      "Successfully built lux-api lux-widget\n",
      "Installing collected packages: webencodings, fastjsonschema, widgetsnbextension, websocket-client, webcolors, uri-template, types-python-dateutil, tinycss2, sh, setuptools, send2trash, rpds-py, rfc3986-validator, rfc3339-validator, pyyaml, pywinpty, python-json-logger, pyparsing, pycparser, pycodestyle, prometheus-client, pillow, pandocfilters, overrides, narwhals, mistune, MarkupSafe, kiwisolver, jupyterlab-widgets, jupyterlab-pygments, jsonpointer, json5, iso3166, httpcore, fqdn, fonttools, defusedxml, cycler, contourpy, bleach, babel, attrs, async-lru, terminado, referencing, matplotlib, jinja2, httpx, cffi, autopep8, arrow, jupyter-server-terminals, jsonschema-specifications, isoduration, argon2-cffi-bindings, jsonschema, ipywidgets, argon2-cffi, nbformat, altair, nbclient, jupyter-events, nbconvert, jupyter-server, notebook-shim, jupyterlab-server, jupyter-lsp, jupyterlab, notebook, lux-widget, lux-api\n",
      "Successfully installed MarkupSafe-3.0.1 altair-5.4.1 argon2-cffi-23.1.0 argon2-cffi-bindings-21.2.0 arrow-1.3.0 async-lru-2.0.4 attrs-24.2.0 autopep8-2.3.1 babel-2.16.0 bleach-6.1.0 cffi-1.17.1 contourpy-1.3.0 cycler-0.12.1 defusedxml-0.7.1 fastjsonschema-2.20.0 fonttools-4.54.1 fqdn-1.5.1 httpcore-1.0.6 httpx-0.27.2 ipywidgets-8.1.5 iso3166-2.1.1 isoduration-20.11.0 jinja2-3.1.4 json5-0.9.25 jsonpointer-3.0.0 jsonschema-4.23.0 jsonschema-specifications-2024.10.1 jupyter-events-0.10.0 jupyter-lsp-2.2.5 jupyter-server-2.14.2 jupyter-server-terminals-0.5.3 jupyterlab-4.2.5 jupyterlab-pygments-0.3.0 jupyterlab-server-2.27.3 jupyterlab-widgets-3.0.13 kiwisolver-1.4.7 lux-api-0.5.1 lux-widget-0.1.11 matplotlib-3.9.2 mistune-3.0.2 narwhals-1.9.2 nbclient-0.10.0 nbconvert-7.16.4 nbformat-5.10.4 notebook-7.2.2 notebook-shim-0.2.4 overrides-7.7.0 pandocfilters-1.5.1 pillow-10.4.0 prometheus-client-0.21.0 pycodestyle-2.12.1 pycparser-2.22 pyparsing-3.1.4 python-json-logger-2.0.7 pywinpty-2.0.13 pyyaml-6.0.2 referencing-0.35.1 rfc3339-validator-0.1.4 rfc3986-validator-0.1.1 rpds-py-0.20.0 send2trash-1.8.3 setuptools-75.1.0 sh-2.1.0 terminado-0.18.1 tinycss2-1.3.0 types-python-dateutil-2.9.0.20241003 uri-template-1.3.0 webcolors-24.8.0 webencodings-0.5.1 websocket-client-1.8.0 widgetsnbextension-4.0.13\n",
      "Note: you may need to restart the kernel to use updated packages.\n"
     ]
    }
   ],
   "source": [
    "pip install lux-api lux-widget"
   ]
  },
  {
   "cell_type": "code",
   "execution_count": 8,
   "metadata": {},
   "outputs": [],
   "source": [
    "#Load the required packages\n",
    "import pandas as pd\n",
    "import lux\n",
    "lux.config.default_display = \"lux\"\n",
    "lux.config.plotting_backend = \"matplotlib\""
   ]
  },
  {
   "cell_type": "markdown",
   "metadata": {},
   "source": [
    "Data Loading "
   ]
  },
  {
   "cell_type": "code",
   "execution_count": 9,
   "metadata": {},
   "outputs": [],
   "source": [
    "#Load the dataset into dataframe\n",
    "df=pd.read_csv(\"Main_dataset.csv\", header = 0)\n",
    "phishing_raw_df = pd.read_csv(\"phishing_feature_engg.csv\", header = 0)"
   ]
  },
  {
   "cell_type": "code",
   "execution_count": 5,
   "metadata": {},
   "outputs": [
    {
     "name": "stderr",
     "output_type": "stream",
     "text": [
      "c:\\Users\\LENOVO\\Desktop\\Detection-Chrome-Extension\\.venv\\Lib\\site-packages\\lux\\executor\\PandasExecutor.py:548: UserWarning:Could not infer format, so each element will be parsed individually, falling back to `dateutil`. To ensure parsing is consistent and as-expected, please specify a format.\n",
      "c:\\Users\\LENOVO\\Desktop\\Detection-Chrome-Extension\\.venv\\Lib\\site-packages\\lux\\executor\\PandasExecutor.py:567: UserWarning:Could not infer format, so each element will be parsed individually, falling back to `dateutil`. To ensure parsing is consistent and as-expected, please specify a format.\n",
      "c:\\Users\\LENOVO\\Desktop\\Detection-Chrome-Extension\\.venv\\Lib\\site-packages\\lux\\executor\\PandasExecutor.py:567: UserWarning:Could not infer format, so each element will be parsed individually, falling back to `dateutil`. To ensure parsing is consistent and as-expected, please specify a format.\n",
      "c:\\Users\\LENOVO\\Desktop\\Detection-Chrome-Extension\\.venv\\Lib\\site-packages\\lux\\executor\\PandasExecutor.py:567: UserWarning:Could not infer format, so each element will be parsed individually, falling back to `dateutil`. To ensure parsing is consistent and as-expected, please specify a format.\n",
      "c:\\Users\\LENOVO\\Desktop\\Detection-Chrome-Extension\\.venv\\Lib\\site-packages\\lux\\executor\\PandasExecutor.py:567: UserWarning:Could not infer format, so each element will be parsed individually, falling back to `dateutil`. To ensure parsing is consistent and as-expected, please specify a format.\n",
      "c:\\Users\\LENOVO\\Desktop\\Detection-Chrome-Extension\\.venv\\Lib\\site-packages\\lux\\executor\\PandasExecutor.py:567: UserWarning:Could not infer format, so each element will be parsed individually, falling back to `dateutil`. To ensure parsing is consistent and as-expected, please specify a format.\n",
      "c:\\Users\\LENOVO\\Desktop\\Detection-Chrome-Extension\\.venv\\Lib\\site-packages\\lux\\executor\\PandasExecutor.py:567: UserWarning:Could not infer format, so each element will be parsed individually, falling back to `dateutil`. To ensure parsing is consistent and as-expected, please specify a format.\n",
      "c:\\Users\\LENOVO\\Desktop\\Detection-Chrome-Extension\\.venv\\Lib\\site-packages\\lux\\executor\\PandasExecutor.py:567: UserWarning:Could not infer format, so each element will be parsed individually, falling back to `dateutil`. To ensure parsing is consistent and as-expected, please specify a format.\n",
      "c:\\Users\\LENOVO\\Desktop\\Detection-Chrome-Extension\\.venv\\Lib\\site-packages\\lux\\executor\\PandasExecutor.py:567: UserWarning:Could not infer format, so each element will be parsed individually, falling back to `dateutil`. To ensure parsing is consistent and as-expected, please specify a format.\n",
      "c:\\Users\\LENOVO\\Desktop\\Detection-Chrome-Extension\\.venv\\Lib\\site-packages\\lux\\executor\\PandasExecutor.py:567: UserWarning:Could not infer format, so each element will be parsed individually, falling back to `dateutil`. To ensure parsing is consistent and as-expected, please specify a format.\n",
      "c:\\Users\\LENOVO\\Desktop\\Detection-Chrome-Extension\\.venv\\Lib\\site-packages\\lux\\executor\\PandasExecutor.py:567: UserWarning:Could not infer format, so each element will be parsed individually, falling back to `dateutil`. To ensure parsing is consistent and as-expected, please specify a format.\n",
      "c:\\Users\\LENOVO\\Desktop\\Detection-Chrome-Extension\\.venv\\Lib\\site-packages\\lux\\executor\\PandasExecutor.py:567: UserWarning:Could not infer format, so each element will be parsed individually, falling back to `dateutil`. To ensure parsing is consistent and as-expected, please specify a format.\n",
      "c:\\Users\\LENOVO\\Desktop\\Detection-Chrome-Extension\\.venv\\Lib\\site-packages\\lux\\core\\groupby.py:29: FutureWarning:The default of observed=False is deprecated and will be changed to True in a future version of pandas. Pass observed=False to retain current behavior or observed=True to adopt the future default and silence this warning.\n",
      "c:\\Users\\LENOVO\\Desktop\\Detection-Chrome-Extension\\.venv\\Lib\\site-packages\\lux\\core\\groupby.py:29: FutureWarning:The default of observed=False is deprecated and will be changed to True in a future version of pandas. Pass observed=False to retain current behavior or observed=True to adopt the future default and silence this warning.\n",
      "c:\\Users\\LENOVO\\Desktop\\Detection-Chrome-Extension\\.venv\\Lib\\site-packages\\lux\\core\\groupby.py:29: FutureWarning:The default of observed=False is deprecated and will be changed to True in a future version of pandas. Pass observed=False to retain current behavior or observed=True to adopt the future default and silence this warning.\n",
      "c:\\Users\\LENOVO\\Desktop\\Detection-Chrome-Extension\\.venv\\Lib\\site-packages\\lux\\core\\groupby.py:29: FutureWarning:The default of observed=False is deprecated and will be changed to True in a future version of pandas. Pass observed=False to retain current behavior or observed=True to adopt the future default and silence this warning.\n",
      "c:\\Users\\LENOVO\\Desktop\\Detection-Chrome-Extension\\.venv\\Lib\\site-packages\\lux\\core\\groupby.py:29: FutureWarning:The default of observed=False is deprecated and will be changed to True in a future version of pandas. Pass observed=False to retain current behavior or observed=True to adopt the future default and silence this warning.\n",
      "c:\\Users\\LENOVO\\Desktop\\Detection-Chrome-Extension\\.venv\\Lib\\site-packages\\lux\\core\\groupby.py:29: FutureWarning:The default of observed=False is deprecated and will be changed to True in a future version of pandas. Pass observed=False to retain current behavior or observed=True to adopt the future default and silence this warning.\n",
      "c:\\Users\\LENOVO\\Desktop\\Detection-Chrome-Extension\\.venv\\Lib\\site-packages\\lux\\core\\groupby.py:29: FutureWarning:The default of observed=False is deprecated and will be changed to True in a future version of pandas. Pass observed=False to retain current behavior or observed=True to adopt the future default and silence this warning.\n",
      "c:\\Users\\LENOVO\\Desktop\\Detection-Chrome-Extension\\.venv\\Lib\\site-packages\\lux\\core\\groupby.py:29: FutureWarning:The default of observed=False is deprecated and will be changed to True in a future version of pandas. Pass observed=False to retain current behavior or observed=True to adopt the future default and silence this warning.\n",
      "c:\\Users\\LENOVO\\Desktop\\Detection-Chrome-Extension\\.venv\\Lib\\site-packages\\lux\\core\\groupby.py:29: FutureWarning:The default of observed=False is deprecated and will be changed to True in a future version of pandas. Pass observed=False to retain current behavior or observed=True to adopt the future default and silence this warning.\n",
      "c:\\Users\\LENOVO\\Desktop\\Detection-Chrome-Extension\\.venv\\Lib\\site-packages\\lux\\core\\groupby.py:29: FutureWarning:The default of observed=False is deprecated and will be changed to True in a future version of pandas. Pass observed=False to retain current behavior or observed=True to adopt the future default and silence this warning.\n"
     ]
    },
    {
     "data": {
      "application/vnd.jupyter.widget-view+json": {
       "model_id": "4a26e452cdac442fb2ea0cc96718440a",
       "version_major": 2,
       "version_minor": 0
      },
      "text/plain": [
       "Button(description='Toggle Pandas/Lux', layout=Layout(top='5px', width='140px'), style=ButtonStyle())"
      ]
     },
     "metadata": {},
     "output_type": "display_data"
    },
    {
     "data": {
      "application/vnd.jupyter.widget-view+json": {
       "model_id": "d2dcde3787464a49912b05dcb4e9b887",
       "version_major": 2,
       "version_minor": 0
      },
      "text/plain": [
       "Output()"
      ]
     },
     "metadata": {},
     "output_type": "display_data"
    }
   ],
   "source": [
    "#correlation for the features which are not normalized\n",
    "df"
   ]
  },
  {
   "cell_type": "code",
   "execution_count": 6,
   "metadata": {},
   "outputs": [
    {
     "name": "stderr",
     "output_type": "stream",
     "text": [
      "c:\\Users\\LENOVO\\Desktop\\Detection-Chrome-Extension\\.venv\\Lib\\site-packages\\lux\\executor\\PandasExecutor.py:567: UserWarning:Could not infer format, so each element will be parsed individually, falling back to `dateutil`. To ensure parsing is consistent and as-expected, please specify a format.\n",
      "c:\\Users\\LENOVO\\Desktop\\Detection-Chrome-Extension\\.venv\\Lib\\site-packages\\lux\\executor\\PandasExecutor.py:567: UserWarning:Could not infer format, so each element will be parsed individually, falling back to `dateutil`. To ensure parsing is consistent and as-expected, please specify a format.\n",
      "c:\\Users\\LENOVO\\Desktop\\Detection-Chrome-Extension\\.venv\\Lib\\site-packages\\lux\\executor\\PandasExecutor.py:567: UserWarning:Could not infer format, so each element will be parsed individually, falling back to `dateutil`. To ensure parsing is consistent and as-expected, please specify a format.\n",
      "c:\\Users\\LENOVO\\Desktop\\Detection-Chrome-Extension\\.venv\\Lib\\site-packages\\lux\\executor\\PandasExecutor.py:567: UserWarning:Could not infer format, so each element will be parsed individually, falling back to `dateutil`. To ensure parsing is consistent and as-expected, please specify a format.\n",
      "c:\\Users\\LENOVO\\Desktop\\Detection-Chrome-Extension\\.venv\\Lib\\site-packages\\lux\\executor\\PandasExecutor.py:567: UserWarning:Could not infer format, so each element will be parsed individually, falling back to `dateutil`. To ensure parsing is consistent and as-expected, please specify a format.\n",
      "c:\\Users\\LENOVO\\Desktop\\Detection-Chrome-Extension\\.venv\\Lib\\site-packages\\lux\\executor\\PandasExecutor.py:567: UserWarning:Could not infer format, so each element will be parsed individually, falling back to `dateutil`. To ensure parsing is consistent and as-expected, please specify a format.\n",
      "c:\\Users\\LENOVO\\Desktop\\Detection-Chrome-Extension\\.venv\\Lib\\site-packages\\lux\\executor\\PandasExecutor.py:567: UserWarning:Could not infer format, so each element will be parsed individually, falling back to `dateutil`. To ensure parsing is consistent and as-expected, please specify a format.\n",
      "c:\\Users\\LENOVO\\Desktop\\Detection-Chrome-Extension\\.venv\\Lib\\site-packages\\lux\\executor\\PandasExecutor.py:567: UserWarning:Could not infer format, so each element will be parsed individually, falling back to `dateutil`. To ensure parsing is consistent and as-expected, please specify a format.\n",
      "c:\\Users\\LENOVO\\Desktop\\Detection-Chrome-Extension\\.venv\\Lib\\site-packages\\lux\\executor\\PandasExecutor.py:567: UserWarning:Could not infer format, so each element will be parsed individually, falling back to `dateutil`. To ensure parsing is consistent and as-expected, please specify a format.\n",
      "c:\\Users\\LENOVO\\Desktop\\Detection-Chrome-Extension\\.venv\\Lib\\site-packages\\lux\\executor\\PandasExecutor.py:567: UserWarning:Could not infer format, so each element will be parsed individually, falling back to `dateutil`. To ensure parsing is consistent and as-expected, please specify a format.\n",
      "c:\\Users\\LENOVO\\Desktop\\Detection-Chrome-Extension\\.venv\\Lib\\site-packages\\lux\\executor\\PandasExecutor.py:567: UserWarning:Could not infer format, so each element will be parsed individually, falling back to `dateutil`. To ensure parsing is consistent and as-expected, please specify a format.\n",
      "c:\\Users\\LENOVO\\Desktop\\Detection-Chrome-Extension\\.venv\\Lib\\site-packages\\lux\\executor\\PandasExecutor.py:567: UserWarning:Could not infer format, so each element will be parsed individually, falling back to `dateutil`. To ensure parsing is consistent and as-expected, please specify a format.\n"
     ]
    },
    {
     "data": {
      "application/vnd.jupyter.widget-view+json": {
       "model_id": "775f98d11d5f4593bd04386779481e9c",
       "version_major": 2,
       "version_minor": 0
      },
      "text/plain": [
       "Button(description='Toggle Pandas/Lux', layout=Layout(top='5px', width='140px'), style=ButtonStyle())"
      ]
     },
     "metadata": {},
     "output_type": "display_data"
    },
    {
     "data": {
      "application/vnd.jupyter.widget-view+json": {
       "model_id": "e0de6b11245848ea8239ab51bdee5669",
       "version_major": 2,
       "version_minor": 0
      },
      "text/plain": [
       "Output()"
      ]
     },
     "metadata": {},
     "output_type": "display_data"
    }
   ],
   "source": [
    "#distribution for the files which are normalized\n",
    "phishing_raw_df"
   ]
  },
  {
   "cell_type": "code",
   "execution_count": 7,
   "metadata": {},
   "outputs": [
    {
     "name": "stderr",
     "output_type": "stream",
     "text": [
      "c:\\Users\\LENOVO\\Desktop\\Detection-Chrome-Extension\\.venv\\Lib\\site-packages\\lux\\core\\groupby.py:32: FutureWarning:The provided callable <built-in function sum> is currently using LuxDataFrameGroupBy.sum. In a future version of pandas, the provided callable will be used directly. To keep current behavior pass the string \"sum\" instead.\n",
      "c:\\Users\\LENOVO\\Desktop\\Detection-Chrome-Extension\\.venv\\Lib\\site-packages\\lux\\core\\groupby.py:32: FutureWarning:The provided callable <built-in function sum> is currently using LuxDataFrameGroupBy.sum. In a future version of pandas, the provided callable will be used directly. To keep current behavior pass the string \"sum\" instead.\n",
      "c:\\Users\\LENOVO\\Desktop\\Detection-Chrome-Extension\\.venv\\Lib\\site-packages\\lux\\core\\groupby.py:32: FutureWarning:The provided callable <built-in function sum> is currently using LuxDataFrameGroupBy.sum. In a future version of pandas, the provided callable will be used directly. To keep current behavior pass the string \"sum\" instead.\n",
      "c:\\Users\\LENOVO\\Desktop\\Detection-Chrome-Extension\\.venv\\Lib\\site-packages\\lux\\core\\groupby.py:32: FutureWarning:The provided callable <built-in function sum> is currently using LuxDataFrameGroupBy.sum. In a future version of pandas, the provided callable will be used directly. To keep current behavior pass the string \"sum\" instead.\n",
      "c:\\Users\\LENOVO\\Desktop\\Detection-Chrome-Extension\\.venv\\Lib\\site-packages\\lux\\core\\groupby.py:32: FutureWarning:The provided callable <built-in function sum> is currently using LuxDataFrameGroupBy.sum. In a future version of pandas, the provided callable will be used directly. To keep current behavior pass the string \"sum\" instead.\n",
      "c:\\Users\\LENOVO\\Desktop\\Detection-Chrome-Extension\\.venv\\Lib\\site-packages\\lux\\core\\groupby.py:32: FutureWarning:The provided callable <built-in function sum> is currently using LuxDataFrameGroupBy.sum. In a future version of pandas, the provided callable will be used directly. To keep current behavior pass the string \"sum\" instead.\n",
      "c:\\Users\\LENOVO\\Desktop\\Detection-Chrome-Extension\\.venv\\Lib\\site-packages\\lux\\core\\groupby.py:32: FutureWarning:The provided callable <built-in function sum> is currently using LuxDataFrameGroupBy.sum. In a future version of pandas, the provided callable will be used directly. To keep current behavior pass the string \"sum\" instead.\n",
      "c:\\Users\\LENOVO\\Desktop\\Detection-Chrome-Extension\\.venv\\Lib\\site-packages\\lux\\core\\groupby.py:32: FutureWarning:The provided callable <built-in function sum> is currently using LuxDataFrameGroupBy.sum. In a future version of pandas, the provided callable will be used directly. To keep current behavior pass the string \"sum\" instead.\n",
      "c:\\Users\\LENOVO\\Desktop\\Detection-Chrome-Extension\\.venv\\Lib\\site-packages\\lux\\core\\groupby.py:32: FutureWarning:The provided callable <built-in function sum> is currently using LuxDataFrameGroupBy.sum. In a future version of pandas, the provided callable will be used directly. To keep current behavior pass the string \"sum\" instead.\n",
      "c:\\Users\\LENOVO\\Desktop\\Detection-Chrome-Extension\\.venv\\Lib\\site-packages\\lux\\core\\groupby.py:32: FutureWarning:The provided callable <built-in function sum> is currently using LuxDataFrameGroupBy.sum. In a future version of pandas, the provided callable will be used directly. To keep current behavior pass the string \"sum\" instead.\n",
      "c:\\Users\\LENOVO\\Desktop\\Detection-Chrome-Extension\\.venv\\Lib\\site-packages\\lux\\core\\groupby.py:32: FutureWarning:The provided callable <built-in function sum> is currently using LuxDataFrameGroupBy.sum. In a future version of pandas, the provided callable will be used directly. To keep current behavior pass the string \"sum\" instead.\n",
      "c:\\Users\\LENOVO\\Desktop\\Detection-Chrome-Extension\\.venv\\Lib\\site-packages\\lux\\core\\groupby.py:32: FutureWarning:The provided callable <built-in function sum> is currently using LuxDataFrameGroupBy.sum. In a future version of pandas, the provided callable will be used directly. To keep current behavior pass the string \"sum\" instead.\n"
     ]
    },
    {
     "data": {
      "application/vnd.jupyter.widget-view+json": {
       "model_id": "4306832f6ed74677896793cb2bc23de0",
       "version_major": 2,
       "version_minor": 0
      },
      "text/plain": [
       "Button(description='Toggle Pandas/Lux', layout=Layout(top='5px', width='140px'), style=ButtonStyle())"
      ]
     },
     "metadata": {},
     "output_type": "display_data"
    },
    {
     "data": {
      "application/vnd.jupyter.widget-view+json": {
       "model_id": "b6f89ee44e4943859767232ab05a658d",
       "version_major": 2,
       "version_minor": 0
      },
      "text/plain": [
       "Output()"
      ]
     },
     "metadata": {},
     "output_type": "display_data"
    }
   ],
   "source": [
    "#intent function we can assign a input variable and lux plots each of this feature with the target variable\n",
    "phishing_raw_df.intent=[\"Label\"]\n",
    "phishing_raw_df"
   ]
  },
  {
   "cell_type": "code",
   "execution_count": null,
   "metadata": {},
   "outputs": [],
   "source": []
  }
 ],
 "metadata": {
  "kernelspec": {
   "display_name": ".venv",
   "language": "python",
   "name": "python3"
  },
  "language_info": {
   "codemirror_mode": {
    "name": "ipython",
    "version": 3
   },
   "file_extension": ".py",
   "mimetype": "text/x-python",
   "name": "python",
   "nbconvert_exporter": "python",
   "pygments_lexer": "ipython3",
   "version": "3.12.7"
  }
 },
 "nbformat": 4,
 "nbformat_minor": 4
}
